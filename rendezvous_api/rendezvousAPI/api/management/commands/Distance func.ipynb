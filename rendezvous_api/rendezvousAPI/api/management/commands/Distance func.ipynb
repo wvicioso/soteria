{
 "cells": [
  {
   "cell_type": "code",
   "execution_count": 1,
   "metadata": {},
   "outputs": [],
   "source": [
    "import pandas as pd"
   ]
  },
  {
   "cell_type": "code",
   "execution_count": 15,
   "metadata": {},
   "outputs": [],
   "source": [
    "import math\n",
    "\n",
    "class Haversine:\n",
    "    '''\n",
    "    use the haversine class to calculate the distance between\n",
    "    two lon/lat coordnate pairs.\n",
    "    output distance available in kilometers, meters, miles, and feet.\n",
    "    example usage: Haversine([lon1,lat1],[lon2,lat2]).feet\n",
    "    \n",
    "    '''\n",
    "    def __init__(self,coord1,coord2):\n",
    "        lon1,lat1=coord1\n",
    "        lon2,lat2=coord2\n",
    "        \n",
    "        R=6371000                               # radius of Earth in meters\n",
    "        phi_1=math.radians(lat1)\n",
    "        phi_2=math.radians(lat2)\n",
    "\n",
    "        delta_phi=math.radians(lat2-lat1)\n",
    "        delta_lambda=math.radians(lon2-lon1)\n",
    "\n",
    "        a=math.sin(delta_phi/2.0)**2+\\\n",
    "           math.cos(phi_1)*math.cos(phi_2)*\\\n",
    "           math.sin(delta_lambda/2.0)**2\n",
    "        c=2*math.atan2(math.sqrt(a),math.sqrt(1-a))\n",
    "        \n",
    "        self.meters=R*c                         # output distance in meters\n",
    "        self.km=self.meters/1000.0              # output distance in kilometers\n",
    "        self.miles=self.meters*0.000621371      # output distance in miles\n",
    "        self.feet=self.miles*5280               # output distance in feet\n",
    "\n",
    "if __name__ == \"__Haversine__\":\n",
    "    main()"
   ]
  },
  {
   "cell_type": "code",
   "execution_count": 18,
   "metadata": {},
   "outputs": [],
   "source": [
    "df = pd.read_csv(\"Stations.csv\")\n",
    "del df[\"Station ID\"]\n",
    "del df[\"Complex ID\"]\n",
    "del df[\"GTFS Stop ID\"]\n",
    "del df[\"Line\"]\n",
    "del df[\"Structure\"]\n",
    "\n",
    "lst = ['M', 'Bx']\n",
    "df[df[\"Borough\"].isin(lst)]\n",
    "df[\"Close\"] = False\n",
    "\n",
    "df = df[df['Borough'].isin(['M', 'Bx'])]"
   ]
  },
  {
   "cell_type": "code",
   "execution_count": 25,
   "metadata": {},
   "outputs": [
    {
     "name": "stderr",
     "output_type": "stream",
     "text": [
      "/home/haris/anaconda3/lib/python3.6/site-packages/pandas/core/indexing.py:194: SettingWithCopyWarning: \n",
      "A value is trying to be set on a copy of a slice from a DataFrame\n",
      "\n",
      "See the caveats in the documentation: http://pandas.pydata.org/pandas-docs/stable/indexing.html#indexing-view-versus-copy\n",
      "  self._setitem_with_indexer(indexer, value)\n"
     ]
    }
   ],
   "source": [
    "# def filter(long, lat):\n",
    "#     40.82137 -73.95440\n",
    "    #CCNY = (40.8200, -73.9493) Baruch = (40.7402, -73.9834) Lehman =  \n",
    "list = [(40.82137, -73.95440), (40.7402, -73.9834), (40.870163186, -73.889663108)]\n",
    "\n",
    "for i in range(len(df)):\n",
    "    for colleges in list:\n",
    "#         if Haversine((df[\"GTFS Longitude\"].iloc[i], df[\"GTFS Latitude\"].iloc[i]), colleges).miles <= 10.0:\n",
    "        if Haversine((df[\"GTFS Latitude\"].iloc[i], df[\"GTFS Longitude\"].iloc[i]), colleges).miles <= 0.5:\n",
    "            df[\"Close\"].iloc[i] = True;\n",
    "            break"
   ]
  },
  {
   "cell_type": "code",
   "execution_count": 31,
   "metadata": {},
   "outputs": [],
   "source": [
    "df = df[df['Close']]\n",
    "del df['Close']"
   ]
  },
  {
   "cell_type": "code",
   "execution_count": 33,
   "metadata": {},
   "outputs": [],
   "source": [
    "df.to_csv(\"stations.csv\", index=False)"
   ]
  },
  {
   "cell_type": "code",
   "execution_count": null,
   "metadata": {},
   "outputs": [],
   "source": []
  }
 ],
 "metadata": {
  "kernelspec": {
   "display_name": "Python 3",
   "language": "python",
   "name": "python3"
  },
  "language_info": {
   "codemirror_mode": {
    "name": "ipython",
    "version": 3
   },
   "file_extension": ".py",
   "mimetype": "text/x-python",
   "name": "python",
   "nbconvert_exporter": "python",
   "pygments_lexer": "ipython3",
   "version": "3.6.4"
  }
 },
 "nbformat": 4,
 "nbformat_minor": 2
}
